{
  "nbformat": 4,
  "nbformat_minor": 0,
  "metadata": {
    "colab": {
      "name": "Actividad3.ipynb",
      "provenance": [],
      "authorship_tag": "ABX9TyPXM7/b5Ztcy3Q1Sya9afXc",
      "include_colab_link": true
    },
    "kernelspec": {
      "name": "python3",
      "display_name": "Python 3"
    }
  },
  "cells": [
    {
      "cell_type": "markdown",
      "metadata": {
        "id": "view-in-github",
        "colab_type": "text"
      },
      "source": [
        "<a href=\"https://colab.research.google.com/github/ebercab7/fcomputacional/blob/main/Actividad3.ipynb\" target=\"_parent\"><img src=\"https://colab.research.google.com/assets/colab-badge.svg\" alt=\"Open In Colab\"/></a>"
      ]
    },
    {
      "cell_type": "markdown",
      "metadata": {
        "id": "lBtCbmA56oux"
      },
      "source": [
        "# **Clima**"
      ]
    },
    {
      "cell_type": "code",
      "metadata": {
        "id": "3ybLQvoj2Rju"
      },
      "source": [
        "import pandas as pd\r\n",
        "import numpy as np"
      ],
      "execution_count": 1,
      "outputs": []
    },
    {
      "cell_type": "code",
      "metadata": {
        "colab": {
          "base_uri": "https://localhost:8080/",
          "height": 424
        },
        "id": "TwxPGpcA3LGN",
        "outputId": "48253916-88a3-48b3-d802-dbfe8f2f23ba"
      },
      "source": [
        "url = \"https://raw.githubusercontent.com/ebercab7/fcomputacional/main/Actividad1/8270%20diario.txt\"\r\n",
        "\r\n",
        "# Se nombran las columnas del df\r\n",
        "my_cols = ['Fecha', 'Precip', 'Evap', 'Tmax', 'Tmin']\r\n",
        "\r\n",
        "# El archivo tiene códigos ASCII extendido (Español), encoding='cp1251' Windows (Europa Occidental)\r\n",
        "# El separador de datos es de uno o más espacios, sep='\\s+'\r\n",
        "# Se brincará los primeros 19 renglones y el último (skiprows), afirmamos que no nay encabezado (header=None)\r\n",
        "# Se procesan los datos utilizando Python, engine='python' \r\n",
        "\r\n",
        "df_clima = pd.read_csv(url, names=my_cols, encoding=\"cp1251\", sep=\"\\s+\", header=None, skiprows=19, skipfooter=1, engine=\"python\")\r\n",
        "df_clima"
      ],
      "execution_count": 2,
      "outputs": [
        {
          "output_type": "execute_result",
          "data": {
            "text/html": [
              "<div>\n",
              "<style scoped>\n",
              "    .dataframe tbody tr th:only-of-type {\n",
              "        vertical-align: middle;\n",
              "    }\n",
              "\n",
              "    .dataframe tbody tr th {\n",
              "        vertical-align: top;\n",
              "    }\n",
              "\n",
              "    .dataframe thead th {\n",
              "        text-align: right;\n",
              "    }\n",
              "</style>\n",
              "<table border=\"1\" class=\"dataframe\">\n",
              "  <thead>\n",
              "    <tr style=\"text-align: right;\">\n",
              "      <th></th>\n",
              "      <th>Fecha</th>\n",
              "      <th>Precip</th>\n",
              "      <th>Evap</th>\n",
              "      <th>Tmax</th>\n",
              "      <th>Tmin</th>\n",
              "    </tr>\n",
              "  </thead>\n",
              "  <tbody>\n",
              "    <tr>\n",
              "      <th>0</th>\n",
              "      <td>01/02/1920</td>\n",
              "      <td>0</td>\n",
              "      <td>Nulo</td>\n",
              "      <td>14</td>\n",
              "      <td>Nulo</td>\n",
              "    </tr>\n",
              "    <tr>\n",
              "      <th>1</th>\n",
              "      <td>02/02/1920</td>\n",
              "      <td>0</td>\n",
              "      <td>Nulo</td>\n",
              "      <td>10</td>\n",
              "      <td>-4</td>\n",
              "    </tr>\n",
              "    <tr>\n",
              "      <th>2</th>\n",
              "      <td>03/02/1920</td>\n",
              "      <td>0</td>\n",
              "      <td>Nulo</td>\n",
              "      <td>18</td>\n",
              "      <td>Nulo</td>\n",
              "    </tr>\n",
              "    <tr>\n",
              "      <th>3</th>\n",
              "      <td>04/02/1920</td>\n",
              "      <td>0</td>\n",
              "      <td>Nulo</td>\n",
              "      <td>14</td>\n",
              "      <td>6</td>\n",
              "    </tr>\n",
              "    <tr>\n",
              "      <th>4</th>\n",
              "      <td>05/02/1920</td>\n",
              "      <td>0</td>\n",
              "      <td>Nulo</td>\n",
              "      <td>7</td>\n",
              "      <td>Nulo</td>\n",
              "    </tr>\n",
              "    <tr>\n",
              "      <th>...</th>\n",
              "      <td>...</td>\n",
              "      <td>...</td>\n",
              "      <td>...</td>\n",
              "      <td>...</td>\n",
              "      <td>...</td>\n",
              "    </tr>\n",
              "    <tr>\n",
              "      <th>31956</th>\n",
              "      <td>27/12/2012</td>\n",
              "      <td>0</td>\n",
              "      <td>4.3</td>\n",
              "      <td>14</td>\n",
              "      <td>-2</td>\n",
              "    </tr>\n",
              "    <tr>\n",
              "      <th>31957</th>\n",
              "      <td>28/12/2012</td>\n",
              "      <td>0</td>\n",
              "      <td>4.4</td>\n",
              "      <td>17</td>\n",
              "      <td>-3</td>\n",
              "    </tr>\n",
              "    <tr>\n",
              "      <th>31958</th>\n",
              "      <td>29/12/2012</td>\n",
              "      <td>0</td>\n",
              "      <td>5.4</td>\n",
              "      <td>11</td>\n",
              "      <td>-4</td>\n",
              "    </tr>\n",
              "    <tr>\n",
              "      <th>31959</th>\n",
              "      <td>30/12/2012</td>\n",
              "      <td>0</td>\n",
              "      <td>4.5</td>\n",
              "      <td>12</td>\n",
              "      <td>-2</td>\n",
              "    </tr>\n",
              "    <tr>\n",
              "      <th>31960</th>\n",
              "      <td>31/12/2012</td>\n",
              "      <td>0</td>\n",
              "      <td>Nulo</td>\n",
              "      <td>Nulo</td>\n",
              "      <td>Nulo</td>\n",
              "    </tr>\n",
              "  </tbody>\n",
              "</table>\n",
              "<p>31961 rows × 5 columns</p>\n",
              "</div>"
            ],
            "text/plain": [
              "            Fecha Precip  Evap  Tmax  Tmin\n",
              "0      01/02/1920      0  Nulo    14  Nulo\n",
              "1      02/02/1920      0  Nulo    10    -4\n",
              "2      03/02/1920      0  Nulo    18  Nulo\n",
              "3      04/02/1920      0  Nulo    14     6\n",
              "4      05/02/1920      0  Nulo     7  Nulo\n",
              "...           ...    ...   ...   ...   ...\n",
              "31956  27/12/2012      0   4.3    14    -2\n",
              "31957  28/12/2012      0   4.4    17    -3\n",
              "31958  29/12/2012      0   5.4    11    -4\n",
              "31959  30/12/2012      0   4.5    12    -2\n",
              "31960  31/12/2012      0  Nulo  Nulo  Nulo\n",
              "\n",
              "[31961 rows x 5 columns]"
            ]
          },
          "metadata": {
            "tags": []
          },
          "execution_count": 2
        }
      ]
    },
    {
      "cell_type": "code",
      "metadata": {
        "colab": {
          "base_uri": "https://localhost:8080/"
        },
        "id": "LKtPp5qT4Wox",
        "outputId": "f79d7254-2f79-4936-ad8a-17b2ad6f8d34"
      },
      "source": [
        "# Se observa el encabezado y el final de los datos\r\n",
        "print(df_clima.head())\r\n",
        "print(df_clima.tail())"
      ],
      "execution_count": 3,
      "outputs": [
        {
          "output_type": "stream",
          "text": [
            "        Fecha Precip  Evap Tmax  Tmin\n",
            "0  01/02/1920      0  Nulo   14  Nulo\n",
            "1  02/02/1920      0  Nulo   10    -4\n",
            "2  03/02/1920      0  Nulo   18  Nulo\n",
            "3  04/02/1920      0  Nulo   14     6\n",
            "4  05/02/1920      0  Nulo    7  Nulo\n",
            "            Fecha Precip  Evap  Tmax  Tmin\n",
            "31956  27/12/2012      0   4.3    14    -2\n",
            "31957  28/12/2012      0   4.4    17    -3\n",
            "31958  29/12/2012      0   5.4    11    -4\n",
            "31959  30/12/2012      0   4.5    12    -2\n",
            "31960  31/12/2012      0  Nulo  Nulo  Nulo\n"
          ],
          "name": "stdout"
        }
      ]
    },
    {
      "cell_type": "code",
      "metadata": {
        "colab": {
          "base_uri": "https://localhost:8080/"
        },
        "id": "1nt3eeuN5OlC",
        "outputId": "b778c9a0-2894-4836-8672-056f244975eb"
      },
      "source": [
        "# Se observa la dimensión de los datos\r\n",
        "df_clima.shape\r\n",
        "\r\n",
        "# Se observa la info de los datos\r\n",
        "df_clima.info()"
      ],
      "execution_count": 4,
      "outputs": [
        {
          "output_type": "stream",
          "text": [
            "<class 'pandas.core.frame.DataFrame'>\n",
            "RangeIndex: 31961 entries, 0 to 31960\n",
            "Data columns (total 5 columns):\n",
            " #   Column  Non-Null Count  Dtype \n",
            "---  ------  --------------  ----- \n",
            " 0   Fecha   31961 non-null  object\n",
            " 1   Precip  31961 non-null  object\n",
            " 2   Evap    31961 non-null  object\n",
            " 3   Tmax    31961 non-null  object\n",
            " 4   Tmin    31961 non-null  object\n",
            "dtypes: object(5)\n",
            "memory usage: 1.2+ MB\n"
          ],
          "name": "stdout"
        }
      ]
    },
    {
      "cell_type": "code",
      "metadata": {
        "colab": {
          "base_uri": "https://localhost:8080/",
          "height": 206
        },
        "id": "4eBcDxOB5xJB",
        "outputId": "206f003d-fe5b-4358-f86a-55b492574f14"
      },
      "source": [
        "# Se realiza una copia con la que trabajar para no perder el origigi\r\n",
        "df_c=df_clima.copy()\r\n",
        "df_c.head()"
      ],
      "execution_count": 5,
      "outputs": [
        {
          "output_type": "execute_result",
          "data": {
            "text/html": [
              "<div>\n",
              "<style scoped>\n",
              "    .dataframe tbody tr th:only-of-type {\n",
              "        vertical-align: middle;\n",
              "    }\n",
              "\n",
              "    .dataframe tbody tr th {\n",
              "        vertical-align: top;\n",
              "    }\n",
              "\n",
              "    .dataframe thead th {\n",
              "        text-align: right;\n",
              "    }\n",
              "</style>\n",
              "<table border=\"1\" class=\"dataframe\">\n",
              "  <thead>\n",
              "    <tr style=\"text-align: right;\">\n",
              "      <th></th>\n",
              "      <th>Fecha</th>\n",
              "      <th>Precip</th>\n",
              "      <th>Evap</th>\n",
              "      <th>Tmax</th>\n",
              "      <th>Tmin</th>\n",
              "    </tr>\n",
              "  </thead>\n",
              "  <tbody>\n",
              "    <tr>\n",
              "      <th>0</th>\n",
              "      <td>01/02/1920</td>\n",
              "      <td>0</td>\n",
              "      <td>Nulo</td>\n",
              "      <td>14</td>\n",
              "      <td>Nulo</td>\n",
              "    </tr>\n",
              "    <tr>\n",
              "      <th>1</th>\n",
              "      <td>02/02/1920</td>\n",
              "      <td>0</td>\n",
              "      <td>Nulo</td>\n",
              "      <td>10</td>\n",
              "      <td>-4</td>\n",
              "    </tr>\n",
              "    <tr>\n",
              "      <th>2</th>\n",
              "      <td>03/02/1920</td>\n",
              "      <td>0</td>\n",
              "      <td>Nulo</td>\n",
              "      <td>18</td>\n",
              "      <td>Nulo</td>\n",
              "    </tr>\n",
              "    <tr>\n",
              "      <th>3</th>\n",
              "      <td>04/02/1920</td>\n",
              "      <td>0</td>\n",
              "      <td>Nulo</td>\n",
              "      <td>14</td>\n",
              "      <td>6</td>\n",
              "    </tr>\n",
              "    <tr>\n",
              "      <th>4</th>\n",
              "      <td>05/02/1920</td>\n",
              "      <td>0</td>\n",
              "      <td>Nulo</td>\n",
              "      <td>7</td>\n",
              "      <td>Nulo</td>\n",
              "    </tr>\n",
              "  </tbody>\n",
              "</table>\n",
              "</div>"
            ],
            "text/plain": [
              "        Fecha Precip  Evap Tmax  Tmin\n",
              "0  01/02/1920      0  Nulo   14  Nulo\n",
              "1  02/02/1920      0  Nulo   10    -4\n",
              "2  03/02/1920      0  Nulo   18  Nulo\n",
              "3  04/02/1920      0  Nulo   14     6\n",
              "4  05/02/1920      0  Nulo    7  Nulo"
            ]
          },
          "metadata": {
            "tags": []
          },
          "execution_count": 5
        }
      ]
    },
    {
      "cell_type": "code",
      "metadata": {
        "colab": {
          "base_uri": "https://localhost:8080/",
          "height": 206
        },
        "id": "qbcg0aJK6Hav",
        "outputId": "1f93eeb6-a346-4874-b3f5-4795d1967cb6"
      },
      "source": [
        "# Reemplazamos los textos 'Nulo' por espacio en blanco ''\r\n",
        "str_Nulo = 'Nulo'\r\n",
        "df_c = df_c.replace(to_replace=str_Nulo, value='', regex=True)\r\n",
        "df_c.head()"
      ],
      "execution_count": 6,
      "outputs": [
        {
          "output_type": "execute_result",
          "data": {
            "text/html": [
              "<div>\n",
              "<style scoped>\n",
              "    .dataframe tbody tr th:only-of-type {\n",
              "        vertical-align: middle;\n",
              "    }\n",
              "\n",
              "    .dataframe tbody tr th {\n",
              "        vertical-align: top;\n",
              "    }\n",
              "\n",
              "    .dataframe thead th {\n",
              "        text-align: right;\n",
              "    }\n",
              "</style>\n",
              "<table border=\"1\" class=\"dataframe\">\n",
              "  <thead>\n",
              "    <tr style=\"text-align: right;\">\n",
              "      <th></th>\n",
              "      <th>Fecha</th>\n",
              "      <th>Precip</th>\n",
              "      <th>Evap</th>\n",
              "      <th>Tmax</th>\n",
              "      <th>Tmin</th>\n",
              "    </tr>\n",
              "  </thead>\n",
              "  <tbody>\n",
              "    <tr>\n",
              "      <th>0</th>\n",
              "      <td>01/02/1920</td>\n",
              "      <td>0</td>\n",
              "      <td></td>\n",
              "      <td>14</td>\n",
              "      <td></td>\n",
              "    </tr>\n",
              "    <tr>\n",
              "      <th>1</th>\n",
              "      <td>02/02/1920</td>\n",
              "      <td>0</td>\n",
              "      <td></td>\n",
              "      <td>10</td>\n",
              "      <td>-4</td>\n",
              "    </tr>\n",
              "    <tr>\n",
              "      <th>2</th>\n",
              "      <td>03/02/1920</td>\n",
              "      <td>0</td>\n",
              "      <td></td>\n",
              "      <td>18</td>\n",
              "      <td></td>\n",
              "    </tr>\n",
              "    <tr>\n",
              "      <th>3</th>\n",
              "      <td>04/02/1920</td>\n",
              "      <td>0</td>\n",
              "      <td></td>\n",
              "      <td>14</td>\n",
              "      <td>6</td>\n",
              "    </tr>\n",
              "    <tr>\n",
              "      <th>4</th>\n",
              "      <td>05/02/1920</td>\n",
              "      <td>0</td>\n",
              "      <td></td>\n",
              "      <td>7</td>\n",
              "      <td></td>\n",
              "    </tr>\n",
              "  </tbody>\n",
              "</table>\n",
              "</div>"
            ],
            "text/plain": [
              "        Fecha Precip Evap Tmax Tmin\n",
              "0  01/02/1920      0        14     \n",
              "1  02/02/1920      0        10   -4\n",
              "2  03/02/1920      0        18     \n",
              "3  04/02/1920      0        14    6\n",
              "4  05/02/1920      0         7     "
            ]
          },
          "metadata": {
            "tags": []
          },
          "execution_count": 6
        }
      ]
    },
    {
      "cell_type": "code",
      "metadata": {
        "colab": {
          "base_uri": "https://localhost:8080/"
        },
        "id": "BrdlyDP26Yqo",
        "outputId": "1eb34fe8-d107-467e-bb5a-62058aa15d16"
      },
      "source": [
        "# Se imprime la info actualizada del df\r\n",
        "df_c.info()\r\n",
        "print(df_c.head())"
      ],
      "execution_count": 7,
      "outputs": [
        {
          "output_type": "stream",
          "text": [
            "<class 'pandas.core.frame.DataFrame'>\n",
            "RangeIndex: 31961 entries, 0 to 31960\n",
            "Data columns (total 5 columns):\n",
            " #   Column  Non-Null Count  Dtype \n",
            "---  ------  --------------  ----- \n",
            " 0   Fecha   31961 non-null  object\n",
            " 1   Precip  31961 non-null  object\n",
            " 2   Evap    31961 non-null  object\n",
            " 3   Tmax    31961 non-null  object\n",
            " 4   Tmin    31961 non-null  object\n",
            "dtypes: object(5)\n",
            "memory usage: 1.2+ MB\n",
            "        Fecha Precip Evap Tmax Tmin\n",
            "0  01/02/1920      0        14     \n",
            "1  02/02/1920      0        10   -4\n",
            "2  03/02/1920      0        18     \n",
            "3  04/02/1920      0        14    6\n",
            "4  05/02/1920      0         7     \n"
          ],
          "name": "stdout"
        }
      ]
    },
    {
      "cell_type": "code",
      "metadata": {
        "colab": {
          "base_uri": "https://localhost:8080/"
        },
        "id": "V04To7dS6ncP",
        "outputId": "21e76b96-109c-487b-887e-26c0df7c06fb"
      },
      "source": [
        "# Se procede a convertir los datos del clima a valores numericos para poder trabajar los datos\r\n",
        "columnas = ['Precip', 'Evap', 'Tmax', 'Tmin']\r\n",
        "for cols in columnas:\r\n",
        "  df_c[cols] = pd.to_numeric(df_c[cols], errors=\"coerce\")\r\n",
        "\r\n",
        "df_c.info()\r\n"
      ],
      "execution_count": 8,
      "outputs": [
        {
          "output_type": "stream",
          "text": [
            "<class 'pandas.core.frame.DataFrame'>\n",
            "RangeIndex: 31961 entries, 0 to 31960\n",
            "Data columns (total 5 columns):\n",
            " #   Column  Non-Null Count  Dtype  \n",
            "---  ------  --------------  -----  \n",
            " 0   Fecha   31961 non-null  object \n",
            " 1   Precip  31947 non-null  float64\n",
            " 2   Evap    9582 non-null   float64\n",
            " 3   Tmax    12080 non-null  float64\n",
            " 4   Tmin    11601 non-null  float64\n",
            "dtypes: float64(4), object(1)\n",
            "memory usage: 1.2+ MB\n"
          ],
          "name": "stdout"
        }
      ]
    },
    {
      "cell_type": "code",
      "metadata": {
        "colab": {
          "base_uri": "https://localhost:8080/"
        },
        "id": "BTyhn9lD7kQo",
        "outputId": "ddb9aeae-745c-462a-f34c-b4ab71f15508"
      },
      "source": [
        "# Se observa que datos faltan\r\n",
        "df_c.isnull().sum()"
      ],
      "execution_count": 9,
      "outputs": [
        {
          "output_type": "execute_result",
          "data": {
            "text/plain": [
              "Fecha         0\n",
              "Precip       14\n",
              "Evap      22379\n",
              "Tmax      19881\n",
              "Tmin      20360\n",
              "dtype: int64"
            ]
          },
          "metadata": {
            "tags": []
          },
          "execution_count": 9
        }
      ]
    },
    {
      "cell_type": "code",
      "metadata": {
        "colab": {
          "base_uri": "https://localhost:8080/"
        },
        "id": "ShquzzX18FEI",
        "outputId": "85873c09-9314-41d3-beed-fefa3e8171cb"
      },
      "source": [
        "print(df_c.head())"
      ],
      "execution_count": 10,
      "outputs": [
        {
          "output_type": "stream",
          "text": [
            "        Fecha  Precip  Evap  Tmax  Tmin\n",
            "0  01/02/1920     0.0   NaN  14.0   NaN\n",
            "1  02/02/1920     0.0   NaN  10.0  -4.0\n",
            "2  03/02/1920     0.0   NaN  18.0   NaN\n",
            "3  04/02/1920     0.0   NaN  14.0   6.0\n",
            "4  05/02/1920     0.0   NaN   7.0   NaN\n"
          ],
          "name": "stdout"
        }
      ]
    },
    {
      "cell_type": "code",
      "metadata": {
        "colab": {
          "base_uri": "https://localhost:8080/",
          "height": 300
        },
        "id": "z6WxvuwD8Iih",
        "outputId": "ac6fb9b6-63c4-4d99-eacb-21876ae1c4ad"
      },
      "source": [
        "# Breve analísis estadistico redondeado a 2 cifras.\r\n",
        "df_c.describe().round(2)"
      ],
      "execution_count": 11,
      "outputs": [
        {
          "output_type": "execute_result",
          "data": {
            "text/html": [
              "<div>\n",
              "<style scoped>\n",
              "    .dataframe tbody tr th:only-of-type {\n",
              "        vertical-align: middle;\n",
              "    }\n",
              "\n",
              "    .dataframe tbody tr th {\n",
              "        vertical-align: top;\n",
              "    }\n",
              "\n",
              "    .dataframe thead th {\n",
              "        text-align: right;\n",
              "    }\n",
              "</style>\n",
              "<table border=\"1\" class=\"dataframe\">\n",
              "  <thead>\n",
              "    <tr style=\"text-align: right;\">\n",
              "      <th></th>\n",
              "      <th>Precip</th>\n",
              "      <th>Evap</th>\n",
              "      <th>Tmax</th>\n",
              "      <th>Tmin</th>\n",
              "    </tr>\n",
              "  </thead>\n",
              "  <tbody>\n",
              "    <tr>\n",
              "      <th>count</th>\n",
              "      <td>31947.00</td>\n",
              "      <td>9582.00</td>\n",
              "      <td>12080.00</td>\n",
              "      <td>11601.00</td>\n",
              "    </tr>\n",
              "    <tr>\n",
              "      <th>mean</th>\n",
              "      <td>0.36</td>\n",
              "      <td>5.99</td>\n",
              "      <td>24.15</td>\n",
              "      <td>6.49</td>\n",
              "    </tr>\n",
              "    <tr>\n",
              "      <th>std</th>\n",
              "      <td>2.68</td>\n",
              "      <td>3.11</td>\n",
              "      <td>7.10</td>\n",
              "      <td>6.38</td>\n",
              "    </tr>\n",
              "    <tr>\n",
              "      <th>min</th>\n",
              "      <td>0.00</td>\n",
              "      <td>0.00</td>\n",
              "      <td>0.00</td>\n",
              "      <td>-11.00</td>\n",
              "    </tr>\n",
              "    <tr>\n",
              "      <th>25%</th>\n",
              "      <td>0.00</td>\n",
              "      <td>3.50</td>\n",
              "      <td>19.00</td>\n",
              "      <td>2.00</td>\n",
              "    </tr>\n",
              "    <tr>\n",
              "      <th>50%</th>\n",
              "      <td>0.00</td>\n",
              "      <td>5.40</td>\n",
              "      <td>25.00</td>\n",
              "      <td>6.00</td>\n",
              "    </tr>\n",
              "    <tr>\n",
              "      <th>75%</th>\n",
              "      <td>0.00</td>\n",
              "      <td>8.10</td>\n",
              "      <td>30.00</td>\n",
              "      <td>12.00</td>\n",
              "    </tr>\n",
              "    <tr>\n",
              "      <th>max</th>\n",
              "      <td>98.50</td>\n",
              "      <td>18.00</td>\n",
              "      <td>42.50</td>\n",
              "      <td>26.00</td>\n",
              "    </tr>\n",
              "  </tbody>\n",
              "</table>\n",
              "</div>"
            ],
            "text/plain": [
              "         Precip     Evap      Tmax      Tmin\n",
              "count  31947.00  9582.00  12080.00  11601.00\n",
              "mean       0.36     5.99     24.15      6.49\n",
              "std        2.68     3.11      7.10      6.38\n",
              "min        0.00     0.00      0.00    -11.00\n",
              "25%        0.00     3.50     19.00      2.00\n",
              "50%        0.00     5.40     25.00      6.00\n",
              "75%        0.00     8.10     30.00     12.00\n",
              "max       98.50    18.00     42.50     26.00"
            ]
          },
          "metadata": {
            "tags": []
          },
          "execution_count": 11
        }
      ]
    },
    {
      "cell_type": "code",
      "metadata": {
        "colab": {
          "base_uri": "https://localhost:8080/",
          "height": 424
        },
        "id": "eItx9hdq-bGn",
        "outputId": "be2f0a01-831f-4010-a5f5-19fc4bfd8d4b"
      },
      "source": [
        "# Nueva copia de seguridad\r\n",
        "df_c1 = df_c.copy()\r\n",
        "df_c1"
      ],
      "execution_count": 15,
      "outputs": [
        {
          "output_type": "execute_result",
          "data": {
            "text/html": [
              "<div>\n",
              "<style scoped>\n",
              "    .dataframe tbody tr th:only-of-type {\n",
              "        vertical-align: middle;\n",
              "    }\n",
              "\n",
              "    .dataframe tbody tr th {\n",
              "        vertical-align: top;\n",
              "    }\n",
              "\n",
              "    .dataframe thead th {\n",
              "        text-align: right;\n",
              "    }\n",
              "</style>\n",
              "<table border=\"1\" class=\"dataframe\">\n",
              "  <thead>\n",
              "    <tr style=\"text-align: right;\">\n",
              "      <th></th>\n",
              "      <th>Fecha</th>\n",
              "      <th>Precip</th>\n",
              "      <th>Evap</th>\n",
              "      <th>Tmax</th>\n",
              "      <th>Tmin</th>\n",
              "    </tr>\n",
              "  </thead>\n",
              "  <tbody>\n",
              "    <tr>\n",
              "      <th>0</th>\n",
              "      <td>01/02/1920</td>\n",
              "      <td>0.0</td>\n",
              "      <td>NaN</td>\n",
              "      <td>14.0</td>\n",
              "      <td>NaN</td>\n",
              "    </tr>\n",
              "    <tr>\n",
              "      <th>1</th>\n",
              "      <td>02/02/1920</td>\n",
              "      <td>0.0</td>\n",
              "      <td>NaN</td>\n",
              "      <td>10.0</td>\n",
              "      <td>-4.0</td>\n",
              "    </tr>\n",
              "    <tr>\n",
              "      <th>2</th>\n",
              "      <td>03/02/1920</td>\n",
              "      <td>0.0</td>\n",
              "      <td>NaN</td>\n",
              "      <td>18.0</td>\n",
              "      <td>NaN</td>\n",
              "    </tr>\n",
              "    <tr>\n",
              "      <th>3</th>\n",
              "      <td>04/02/1920</td>\n",
              "      <td>0.0</td>\n",
              "      <td>NaN</td>\n",
              "      <td>14.0</td>\n",
              "      <td>6.0</td>\n",
              "    </tr>\n",
              "    <tr>\n",
              "      <th>4</th>\n",
              "      <td>05/02/1920</td>\n",
              "      <td>0.0</td>\n",
              "      <td>NaN</td>\n",
              "      <td>7.0</td>\n",
              "      <td>NaN</td>\n",
              "    </tr>\n",
              "    <tr>\n",
              "      <th>...</th>\n",
              "      <td>...</td>\n",
              "      <td>...</td>\n",
              "      <td>...</td>\n",
              "      <td>...</td>\n",
              "      <td>...</td>\n",
              "    </tr>\n",
              "    <tr>\n",
              "      <th>31956</th>\n",
              "      <td>27/12/2012</td>\n",
              "      <td>0.0</td>\n",
              "      <td>4.3</td>\n",
              "      <td>14.0</td>\n",
              "      <td>-2.0</td>\n",
              "    </tr>\n",
              "    <tr>\n",
              "      <th>31957</th>\n",
              "      <td>28/12/2012</td>\n",
              "      <td>0.0</td>\n",
              "      <td>4.4</td>\n",
              "      <td>17.0</td>\n",
              "      <td>-3.0</td>\n",
              "    </tr>\n",
              "    <tr>\n",
              "      <th>31958</th>\n",
              "      <td>29/12/2012</td>\n",
              "      <td>0.0</td>\n",
              "      <td>5.4</td>\n",
              "      <td>11.0</td>\n",
              "      <td>-4.0</td>\n",
              "    </tr>\n",
              "    <tr>\n",
              "      <th>31959</th>\n",
              "      <td>30/12/2012</td>\n",
              "      <td>0.0</td>\n",
              "      <td>4.5</td>\n",
              "      <td>12.0</td>\n",
              "      <td>-2.0</td>\n",
              "    </tr>\n",
              "    <tr>\n",
              "      <th>31960</th>\n",
              "      <td>31/12/2012</td>\n",
              "      <td>0.0</td>\n",
              "      <td>NaN</td>\n",
              "      <td>NaN</td>\n",
              "      <td>NaN</td>\n",
              "    </tr>\n",
              "  </tbody>\n",
              "</table>\n",
              "<p>31961 rows × 5 columns</p>\n",
              "</div>"
            ],
            "text/plain": [
              "            Fecha  Precip  Evap  Tmax  Tmin\n",
              "0      01/02/1920     0.0   NaN  14.0   NaN\n",
              "1      02/02/1920     0.0   NaN  10.0  -4.0\n",
              "2      03/02/1920     0.0   NaN  18.0   NaN\n",
              "3      04/02/1920     0.0   NaN  14.0   6.0\n",
              "4      05/02/1920     0.0   NaN   7.0   NaN\n",
              "...           ...     ...   ...   ...   ...\n",
              "31956  27/12/2012     0.0   4.3  14.0  -2.0\n",
              "31957  28/12/2012     0.0   4.4  17.0  -3.0\n",
              "31958  29/12/2012     0.0   5.4  11.0  -4.0\n",
              "31959  30/12/2012     0.0   4.5  12.0  -2.0\n",
              "31960  31/12/2012     0.0   NaN   NaN   NaN\n",
              "\n",
              "[31961 rows x 5 columns]"
            ]
          },
          "metadata": {
            "tags": []
          },
          "execution_count": 15
        }
      ]
    },
    {
      "cell_type": "code",
      "metadata": {
        "colab": {
          "base_uri": "https://localhost:8080/"
        },
        "id": "PHyOvFH1-y7O",
        "outputId": "f30f19f1-6b38-4b83-e6a7-dea758ccacf0"
      },
      "source": [
        "df_c1[\"Fecha\"] = pd.to_datetime(df_c1[\"Fecha\"], dayfirst=True ).copy()\r\n",
        "print(df_c1.head())\r\n"
      ],
      "execution_count": 18,
      "outputs": [
        {
          "output_type": "stream",
          "text": [
            "       Fecha  Precip  Evap  Tmax  Tmin\n",
            "0 1920-02-01     0.0   NaN  14.0   NaN\n",
            "1 1920-02-02     0.0   NaN  10.0  -4.0\n",
            "2 1920-02-03     0.0   NaN  18.0   NaN\n",
            "3 1920-02-04     0.0   NaN  14.0   6.0\n",
            "4 1920-02-05     0.0   NaN   7.0   NaN\n"
          ],
          "name": "stdout"
        }
      ]
    },
    {
      "cell_type": "code",
      "metadata": {
        "colab": {
          "base_uri": "https://localhost:8080/",
          "height": 424
        },
        "id": "oud7gyovAk5l",
        "outputId": "307b2188-1e6e-4824-a63a-3c734dd6a3ed"
      },
      "source": [
        "# Se añaden las columnas de año y mes ademas de la de fecha\r\n",
        "df_c1[\"Año\"] = df_c1[\"Fecha\"].dt.year\r\n",
        "df_c1[\"Mes\"] = df_c1[\"Fecha\"].dt.month\r\n",
        "df_c1\r\n",
        "#df_c1.info()"
      ],
      "execution_count": 21,
      "outputs": [
        {
          "output_type": "execute_result",
          "data": {
            "text/html": [
              "<div>\n",
              "<style scoped>\n",
              "    .dataframe tbody tr th:only-of-type {\n",
              "        vertical-align: middle;\n",
              "    }\n",
              "\n",
              "    .dataframe tbody tr th {\n",
              "        vertical-align: top;\n",
              "    }\n",
              "\n",
              "    .dataframe thead th {\n",
              "        text-align: right;\n",
              "    }\n",
              "</style>\n",
              "<table border=\"1\" class=\"dataframe\">\n",
              "  <thead>\n",
              "    <tr style=\"text-align: right;\">\n",
              "      <th></th>\n",
              "      <th>Fecha</th>\n",
              "      <th>Precip</th>\n",
              "      <th>Evap</th>\n",
              "      <th>Tmax</th>\n",
              "      <th>Tmin</th>\n",
              "      <th>Año</th>\n",
              "      <th>Mes</th>\n",
              "    </tr>\n",
              "  </thead>\n",
              "  <tbody>\n",
              "    <tr>\n",
              "      <th>0</th>\n",
              "      <td>1920-02-01</td>\n",
              "      <td>0.0</td>\n",
              "      <td>NaN</td>\n",
              "      <td>14.0</td>\n",
              "      <td>NaN</td>\n",
              "      <td>1920</td>\n",
              "      <td>2</td>\n",
              "    </tr>\n",
              "    <tr>\n",
              "      <th>1</th>\n",
              "      <td>1920-02-02</td>\n",
              "      <td>0.0</td>\n",
              "      <td>NaN</td>\n",
              "      <td>10.0</td>\n",
              "      <td>-4.0</td>\n",
              "      <td>1920</td>\n",
              "      <td>2</td>\n",
              "    </tr>\n",
              "    <tr>\n",
              "      <th>2</th>\n",
              "      <td>1920-02-03</td>\n",
              "      <td>0.0</td>\n",
              "      <td>NaN</td>\n",
              "      <td>18.0</td>\n",
              "      <td>NaN</td>\n",
              "      <td>1920</td>\n",
              "      <td>2</td>\n",
              "    </tr>\n",
              "    <tr>\n",
              "      <th>3</th>\n",
              "      <td>1920-02-04</td>\n",
              "      <td>0.0</td>\n",
              "      <td>NaN</td>\n",
              "      <td>14.0</td>\n",
              "      <td>6.0</td>\n",
              "      <td>1920</td>\n",
              "      <td>2</td>\n",
              "    </tr>\n",
              "    <tr>\n",
              "      <th>4</th>\n",
              "      <td>1920-02-05</td>\n",
              "      <td>0.0</td>\n",
              "      <td>NaN</td>\n",
              "      <td>7.0</td>\n",
              "      <td>NaN</td>\n",
              "      <td>1920</td>\n",
              "      <td>2</td>\n",
              "    </tr>\n",
              "    <tr>\n",
              "      <th>...</th>\n",
              "      <td>...</td>\n",
              "      <td>...</td>\n",
              "      <td>...</td>\n",
              "      <td>...</td>\n",
              "      <td>...</td>\n",
              "      <td>...</td>\n",
              "      <td>...</td>\n",
              "    </tr>\n",
              "    <tr>\n",
              "      <th>31956</th>\n",
              "      <td>2012-12-27</td>\n",
              "      <td>0.0</td>\n",
              "      <td>4.3</td>\n",
              "      <td>14.0</td>\n",
              "      <td>-2.0</td>\n",
              "      <td>2012</td>\n",
              "      <td>12</td>\n",
              "    </tr>\n",
              "    <tr>\n",
              "      <th>31957</th>\n",
              "      <td>2012-12-28</td>\n",
              "      <td>0.0</td>\n",
              "      <td>4.4</td>\n",
              "      <td>17.0</td>\n",
              "      <td>-3.0</td>\n",
              "      <td>2012</td>\n",
              "      <td>12</td>\n",
              "    </tr>\n",
              "    <tr>\n",
              "      <th>31958</th>\n",
              "      <td>2012-12-29</td>\n",
              "      <td>0.0</td>\n",
              "      <td>5.4</td>\n",
              "      <td>11.0</td>\n",
              "      <td>-4.0</td>\n",
              "      <td>2012</td>\n",
              "      <td>12</td>\n",
              "    </tr>\n",
              "    <tr>\n",
              "      <th>31959</th>\n",
              "      <td>2012-12-30</td>\n",
              "      <td>0.0</td>\n",
              "      <td>4.5</td>\n",
              "      <td>12.0</td>\n",
              "      <td>-2.0</td>\n",
              "      <td>2012</td>\n",
              "      <td>12</td>\n",
              "    </tr>\n",
              "    <tr>\n",
              "      <th>31960</th>\n",
              "      <td>2012-12-31</td>\n",
              "      <td>0.0</td>\n",
              "      <td>NaN</td>\n",
              "      <td>NaN</td>\n",
              "      <td>NaN</td>\n",
              "      <td>2012</td>\n",
              "      <td>12</td>\n",
              "    </tr>\n",
              "  </tbody>\n",
              "</table>\n",
              "<p>31961 rows × 7 columns</p>\n",
              "</div>"
            ],
            "text/plain": [
              "           Fecha  Precip  Evap  Tmax  Tmin   Año  Mes\n",
              "0     1920-02-01     0.0   NaN  14.0   NaN  1920    2\n",
              "1     1920-02-02     0.0   NaN  10.0  -4.0  1920    2\n",
              "2     1920-02-03     0.0   NaN  18.0   NaN  1920    2\n",
              "3     1920-02-04     0.0   NaN  14.0   6.0  1920    2\n",
              "4     1920-02-05     0.0   NaN   7.0   NaN  1920    2\n",
              "...          ...     ...   ...   ...   ...   ...  ...\n",
              "31956 2012-12-27     0.0   4.3  14.0  -2.0  2012   12\n",
              "31957 2012-12-28     0.0   4.4  17.0  -3.0  2012   12\n",
              "31958 2012-12-29     0.0   5.4  11.0  -4.0  2012   12\n",
              "31959 2012-12-30     0.0   4.5  12.0  -2.0  2012   12\n",
              "31960 2012-12-31     0.0   NaN   NaN   NaN  2012   12\n",
              "\n",
              "[31961 rows x 7 columns]"
            ]
          },
          "metadata": {
            "tags": []
          },
          "execution_count": 21
        }
      ]
    },
    {
      "cell_type": "code",
      "metadata": {
        "colab": {
          "base_uri": "https://localhost:8080/"
        },
        "id": "Of5y-44KB8Kr",
        "outputId": "67c9a2e2-a54f-43f1-9027-964087b8cec8"
      },
      "source": [
        "# Para verificar\r\n",
        "print(df_c1.head())\r\n",
        "print(df_c1.tail())\r\n",
        "print(df_c1.dtypes)"
      ],
      "execution_count": 23,
      "outputs": [
        {
          "output_type": "stream",
          "text": [
            "       Fecha  Precip  Evap  Tmax  Tmin   Año  Mes\n",
            "0 1920-02-01     0.0   NaN  14.0   NaN  1920    2\n",
            "1 1920-02-02     0.0   NaN  10.0  -4.0  1920    2\n",
            "2 1920-02-03     0.0   NaN  18.0   NaN  1920    2\n",
            "3 1920-02-04     0.0   NaN  14.0   6.0  1920    2\n",
            "4 1920-02-05     0.0   NaN   7.0   NaN  1920    2\n",
            "           Fecha  Precip  Evap  Tmax  Tmin   Año  Mes\n",
            "31956 2012-12-27     0.0   4.3  14.0  -2.0  2012   12\n",
            "31957 2012-12-28     0.0   4.4  17.0  -3.0  2012   12\n",
            "31958 2012-12-29     0.0   5.4  11.0  -4.0  2012   12\n",
            "31959 2012-12-30     0.0   4.5  12.0  -2.0  2012   12\n",
            "31960 2012-12-31     0.0   NaN   NaN   NaN  2012   12\n",
            "Fecha     datetime64[ns]\n",
            "Precip           float64\n",
            "Evap             float64\n",
            "Tmax             float64\n",
            "Tmin             float64\n",
            "Año                int64\n",
            "Mes                int64\n",
            "dtype: object\n"
          ],
          "name": "stdout"
        }
      ]
    }
  ]
}