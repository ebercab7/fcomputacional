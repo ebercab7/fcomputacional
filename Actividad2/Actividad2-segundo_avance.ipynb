{
  "nbformat": 4,
  "nbformat_minor": 0,
  "metadata": {
    "colab": {
      "name": "Actividad2.ipynb",
      "provenance": [],
      "authorship_tag": "ABX9TyMPMrXgeD4YqJdQoL6FXWsn",
      "include_colab_link": true
    },
    "kernelspec": {
      "name": "python3",
      "display_name": "Python 3"
    }
  },
  "cells": [
    {
      "cell_type": "markdown",
      "metadata": {
        "id": "view-in-github",
        "colab_type": "text"
      },
      "source": [
        "<a href=\"https://colab.research.google.com/github/ebercab7/fcomputacional/blob/main/Actividad2-v2.ipynb\" target=\"_parent\"><img src=\"https://colab.research.google.com/assets/colab-badge.svg\" alt=\"Open In Colab\"/></a>"
      ]
    },
    {
      "cell_type": "markdown",
      "metadata": {
        "id": "MI6FZj_lMWO-"
      },
      "source": [
        "# **Ejercicio 1**\r\n",
        "\r\n",
        "Calculo de areas y volumenes."
      ]
    },
    {
      "cell_type": "markdown",
      "metadata": {
        "id": "couaDu1yLvMd"
      },
      "source": [
        "Ejemplo: Area de un rectangulo\r\n",
        "\r\n",
        "$A=lh$"
      ]
    },
    {
      "cell_type": "code",
      "metadata": {
        "id": "MNv9ydQDMgJA"
      },
      "source": [
        "# Cargando bibliotecas necesarias\r\n",
        "import numpy as np\r\n",
        "import matplotlib.pyplot as plt"
      ],
      "execution_count": null,
      "outputs": []
    },
    {
      "cell_type": "code",
      "metadata": {
        "colab": {
          "base_uri": "https://localhost:8080/"
        },
        "id": "2I1hGvWRMNUn",
        "outputId": "72a93ace-1f84-445e-a0c0-085159fb8f9a"
      },
      "source": [
        "# Se define una función de 2 variables para calcular el área.  \r\n",
        "\r\n",
        "def area(x, y):\r\n",
        "    return x*y\r\n",
        "\r\n",
        "print(\"Proporciona el largo y altura del rectángulo: \", end=\"\")\r\n",
        "l = float(input())\r\n",
        "w = float(input())\r\n",
        "a = area(l, w)\r\n",
        "# Imprime el valor del área en formato libre.\r\n",
        "print(\"\\nArea = \", a)\r\n",
        "# Imprime el valor del área con 2 decimales. \r\n",
        "\r\n",
        "print(\"\\nArea = {:.2f}\".format(a))"
      ],
      "execution_count": null,
      "outputs": [
        {
          "output_type": "stream",
          "text": [
            "3.141592653589793\n",
            "Proporciona el largo y altura del rectángulo: 1\n",
            "1\n",
            "\n",
            "Area =  1.0\n",
            "\n",
            "Area = 1.00\n"
          ],
          "name": "stdout"
        }
      ]
    },
    {
      "cell_type": "markdown",
      "metadata": {
        "id": "aZXOAKL6NzO0"
      },
      "source": [
        "Area de un circulo:\r\n",
        "\r\n",
        "$A=\\pi r^2$\r\n"
      ]
    },
    {
      "cell_type": "code",
      "metadata": {
        "colab": {
          "base_uri": "https://localhost:8080/"
        },
        "id": "s3e2_y9UOOFN",
        "outputId": "2b29a558-5fe8-4cf7-92aa-48f6d4c53c3f"
      },
      "source": [
        "# Se define la función de area\r\n",
        "#print(np.pi)\r\n",
        "def areaCIR(r):\r\n",
        "\r\n",
        "  return (np.pi)*(r)**2\r\n",
        "\r\n",
        "print(\"Por favor, ingrese el radio del circulo.\")\r\n",
        "r = float(input())\r\n",
        "a = areaCIR(r)\r\n",
        "\r\n",
        "print(f\"El area del circulo es {a}\")\r\n",
        "\r\n"
      ],
      "execution_count": null,
      "outputs": [
        {
          "output_type": "stream",
          "text": [
            "Por favor, ingrese el radio del circulo:\n",
            "1\n",
            "El area del circulo es 3.141592653589793\n"
          ],
          "name": "stdout"
        }
      ]
    },
    {
      "cell_type": "markdown",
      "metadata": {
        "id": "T6uEthIYQpF9"
      },
      "source": [
        "Area de un elipse:\r\n",
        "\r\n",
        "$A=\\pi ab$"
      ]
    },
    {
      "cell_type": "code",
      "metadata": {
        "id": "TS2nmm4KQ1Rc"
      },
      "source": [
        "# se define la función de area:\r\n",
        "def areaELI(x,y):\r\n",
        "  return (np.pi)*x*y\r\n",
        "\r\n",
        "print(\"Por favor, ingrese el valor para el eje mayor seguido del valor del eje menor.\")\r\n",
        "a = float(input())\r\n",
        "b = float(input())\r\n",
        "a = areaELI(a,b)\r\n",
        "\r\n",
        "print(f\"El valor del area es: {a}\")"
      ],
      "execution_count": null,
      "outputs": []
    },
    {
      "cell_type": "markdown",
      "metadata": {
        "id": "i0_pTX6MSrX5"
      },
      "source": [
        "Volumen de una esfera:\r\n",
        "\r\n",
        "$V=\\frac{4}{3} \\pi r^3$"
      ]
    },
    {
      "cell_type": "code",
      "metadata": {
        "id": "StbFjbomTEFf"
      },
      "source": [
        "# se define la función volumen\r\n",
        "def volESF(x):\r\n",
        "  return 4*(np.pi)*(x)**(3)/3\r\n",
        "\r\n",
        "print(\"A continuación, ingrese el valor del radio de la esfera.\")\r\n",
        "r = float(input())\r\n",
        "a = volESF(r)\r\n",
        "\r\n",
        "print(f\"El volumen de su esfera es: {a}\")"
      ],
      "execution_count": null,
      "outputs": []
    },
    {
      "cell_type": "markdown",
      "metadata": {
        "id": "uSULL7nvYlC5"
      },
      "source": [
        "Volumen de un cilindro circular:\r\n",
        "\r\n",
        "$V=\\pi r^2 h$"
      ]
    },
    {
      "cell_type": "code",
      "metadata": {
        "id": "ENV2kSHKYxey"
      },
      "source": [
        "# se define la función de volumen\r\n",
        "def volCIL(x,y):\r\n",
        "  return (np.pi)*x*y**(2)\r\n",
        "\r\n",
        "print(\"Por favor, ingrese el valor del radio de la base seguido de la altura del cilindro.\")\r\n",
        "r = float(input())\r\n",
        "h = float(input())\r\n",
        "a = volCIL(h,r)\r\n",
        "\r\n",
        "print(f\"El volumen del cilindro es: {a}\")"
      ],
      "execution_count": null,
      "outputs": []
    },
    {
      "cell_type": "markdown",
      "metadata": {
        "id": "GSE5PygOaJIj"
      },
      "source": [
        "# **Ejercicio 2:**\r\n",
        "\r\n",
        "Calculo de raices para ecuaciones cuadraticas.\r\n",
        "\r\n",
        "$x=\\frac{-b \\pm \\sqrt{b^2 - 4ac}}{2a}$"
      ]
    },
    {
      "cell_type": "code",
      "metadata": {
        "id": "a_-pnLplajZg"
      },
      "source": [
        "#Cargando bibliotecas:\r\n",
        "import numpy as np\r\n",
        "\r\n",
        "#definiendo funciones \"formula cuadratica\"\r\n",
        "def raiz1(a,b,c):\r\n",
        "  return (-b+np.sqrt(b**(2.)-4.*a*c))/(2.*a)\r\n",
        "\r\n",
        "def raiz2(a,b,c):\r\n",
        "  return (-b-np.sqrt(b**(2.)-4.*a*c))/(2.*a)\r\n",
        "\r\n",
        "print(\"Bienvenido, este programa puede calcular las raices reales de ecuaciones cuadraticas del tipo ax^2+bx+c=0 .\")\r\n",
        "print(\"\\nPor favor, ingrese los valores de los coeficientes en el sig. orden: a, b, c\")\r\n",
        "\r\n",
        "a = float(input())\r\n",
        "b = float(input())\r\n",
        "c = float(input())\r\n",
        "# determinando si las raices son reales\r\n",
        "if b**(2.)-4.*a*c < 0.0:\r\n",
        "  print(\"\\nSu ecuación cuadratica no tiene raices reales.\")\r\n",
        "else:\r\n",
        "  x1 = raiz1(a,b,c)\r\n",
        "  x2 = raiz2(a,b,c)\r\n",
        "  # categorizando a una sola raiz o dos\r\n",
        "  if x1 == x2 :\r\n",
        "    print(f\"Su ecuación cuenta con una unica raíz. Esta es: {x1}\")\r\n",
        "  else:\r\n",
        "    print(f\"La primer raíz de su ecuación es: {x1}\")\r\n",
        "    print(f\"La segunda raíz de su ecuación es: {x2}\")\r\n",
        "\r\n"
      ],
      "execution_count": null,
      "outputs": []
    },
    {
      "cell_type": "markdown",
      "metadata": {
        "id": "JxNx0LOhfLaH"
      },
      "source": [
        "# **Ejercicio 3:**\r\n",
        "\r\n",
        "Calculo de la raíz cuadrada de un número arbitrario $S$ mediante el método babilonio.\r\n",
        "\r\n",
        "$x_0 \\approx \\sqrt{S}$\r\n",
        "\r\n",
        "$x_{n+1}=\\frac{1}{2} \\left(x_n + \\frac{S}{x_n} \\right)$\r\n",
        "\r\n",
        "$\\sqrt{S} = \\lim\\limits_{n \\to \\infty} x_n$"
      ]
    },
    {
      "cell_type": "code",
      "metadata": {
        "id": "pkggUiHQrgCc",
        "colab": {
          "base_uri": "https://localhost:8080/"
        },
        "outputId": "1432872c-32f3-4b44-b573-c29d6172f54f"
      },
      "source": [
        "# cargando bibliotecas necesarias\r\n",
        "import numpy as np\r\n",
        "\r\n",
        "print(\"Por favor, ingrese el número al cual desea calcularle la raíz.\")\r\n",
        "s = float(input())\r\n",
        "print(\"\\nAhora, ingrese un número del cual desea comenzar a aproximar la raíz.\") #(Si no sabe de que se habla, ingrese cualquier número)\")\r\n",
        "x = float(input())\r\n",
        "tol = 0.01\r\n",
        "real = np.sqrt(s)\r\n",
        "b=0\r\n",
        "while np.abs(x-b) > tol:\r\n",
        "  b = x\r\n",
        "  x = (1./2.)*(x+s/x)\r\n",
        "\r\n",
        "print(f\"La raíz cuadrada aproximada del número, con una tolerencia de 0.01 es: {x}\")\r\n",
        "#print(f\"\\nLa diferencia entre la aproximación y la raiz exacta es: {np.abs(x-real)}\")"
      ],
      "execution_count": null,
      "outputs": [
        {
          "output_type": "stream",
          "text": [
            "Por favor, ingrese el número al cual desea calcularle la raíz.\n",
            "50\n",
            "\n",
            "Ahora, ingrese un número del cual desea comenzar a aproximar la raíz.\n",
            "10\n",
            "La raíz cuadrada aproximada del número, con una tolerencia de 0.01 es: 7.07106781187345\n"
          ],
          "name": "stdout"
        }
      ]
    },
    {
      "cell_type": "markdown",
      "metadata": {
        "id": "44eA93AoIP15"
      },
      "source": [
        "# **Ejercicio 4**\r\n",
        "\r\n",
        "Gráfica de una función y sus aproximaciones mediante series de Taylor.\r\n",
        "En este caso, la función a graficar y aproximar es: $\\ln(x+1)$\r\n",
        "\r\n",
        "$$\\ln(x+1)= \\sum\\limits_{n=1}^{\\infty} (-1)^{n+1} \\frac{x^n}{n} = x-\\frac{x^2}{2}+\\frac{x^3}{3} - \\cdots $$\r\n",
        "\r\n",
        "Para $-1 \\leq x \\leq 1 $"
      ]
    },
    {
      "cell_type": "code",
      "metadata": {
        "colab": {
          "base_uri": "https://localhost:8080/",
          "height": 332
        },
        "id": "bUTXVA6BK-Pe",
        "outputId": "a2789851-5113-4ea1-cbc1-432e752d5a20"
      },
      "source": [
        "# Cargando bibliotecas necesarias.\r\n",
        "import numpy as np\r\n",
        "import matplotlib.pyplot as plt\r\n",
        "\r\n",
        "# Se define el num de puntos\r\n",
        "\r\n",
        "n = 400\r\n",
        "\r\n",
        "# coordenadas\r\n",
        "\r\n",
        "x = np.linspace(-1.5,1.5,n)\r\n",
        "y = np.log(x+1)\r\n",
        "\r\n",
        "# se printea \"y\" para ver que el mensaje mostrado al ejecutar se debe a que en x=-1 obtenemos \"y\" indeterminada.\r\n",
        "#print(y)\r\n",
        "# serie de taylor\r\n",
        "\r\n",
        "y1=x\r\n",
        "y2=x**(2)/2\r\n",
        "y3=x**(3)/3\r\n",
        "y4=x**(4)/4\r\n",
        "y5=x**(5)/5\r\n",
        "y6=x**(6)/6\r\n",
        "y7=x**(7)/7\r\n",
        "y8=x**(8)/8\r\n",
        "y9=x**(9)/9\r\n",
        "y10=x**(10)/10\r\n",
        "y11=x**(11)/11\r\n",
        "y12=x**(12)/12\r\n",
        "y13=x**(13)/13\r\n",
        "y14=x**(14)/14\r\n",
        "y15=x**(15)/15\r\n",
        "y16=x**(16)/16\r\n",
        "\r\n",
        "st4 = y1-y2+y3-y4\r\n",
        "st7 = y1-y2+y3-y4+y5-y6+y7\r\n",
        "st11 = y1-y2+y3-y4+y5-y6+y7-y8+y9-y10+y11\r\n",
        "st16 = y1-y2+y3-y4+y5-y6+y7-y8+y9-y10+y11-y12+y13-y14+y15-y16\r\n",
        "\r\n",
        "# creando grafica\r\n",
        "plt.subplot(111)\r\n",
        "plt.xlabel(\"eje x\")\r\n",
        "plt.ylabel(\"eje y\")\r\n",
        "plt.title(\"Función ln(1+x)\")\r\n",
        "\r\n",
        "# ploteando funciones\r\n",
        "plt.plot(x,y, label=\"ln(1+x)\")\r\n",
        "plt.plot(x,st4, label=\"Aproximación de grado 4\")\r\n",
        "plt.plot(x,st7, label=\"Aproximación de grado 7\")\r\n",
        "plt.plot(x,st11, label=\"Aproximación de grado 11\")\r\n",
        "plt.plot(x,st16, label=\"Aproximación de grado 16\")\r\n",
        "\r\n",
        "#ajustando grafico\r\n",
        "plt.grid(True)\r\n",
        "plt.ylim(-4,2)\r\n",
        "plt.xlim(-1.5,1.5)\r\n",
        "\r\n",
        "# etiquetas\r\n",
        "plt.legend(bbox_to_anchor=(1,1), loc=\"upper left\")\r\n",
        "plt.show()\r\n",
        "\r\n",
        "# para almacenar la grafica en una imagen:\r\n",
        "# plt.savefig('plot.png')\r\n",
        "\r\n",
        "\r\n",
        "\r\n"
      ],
      "execution_count": 29,
      "outputs": [
        {
          "output_type": "stream",
          "text": [
            "/usr/local/lib/python3.6/dist-packages/ipykernel_launcher.py:12: RuntimeWarning: invalid value encountered in log\n",
            "  if sys.path[0] == '':\n"
          ],
          "name": "stderr"
        },
        {
          "output_type": "display_data",
          "data": {
            "image/png": "[encoded data removed]",
            "text/plain": [
              "<Figure size 432x288 with 1 Axes>"
            ]
          },
          "metadata": {
            "tags": [],
            "needs_background": "light"
          }
        }
      ]
    }
  ]
}