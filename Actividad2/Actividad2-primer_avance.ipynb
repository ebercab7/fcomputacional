{
  "nbformat": 4,
  "nbformat_minor": 0,
  "metadata": {
    "colab": {
      "name": "Actividad2.ipynb",
      "provenance": []
    },
    "kernelspec": {
      "name": "python3",
      "display_name": "Python 3"
    }
  },
  "cells": [
    {
      "cell_type": "markdown",
      "metadata": {
        "id": "MI6FZj_lMWO-"
      },
      "source": [
        "# **Ejercicio 1**\r\n",
        "\r\n",
        "Calculo de areas y volumenes."
      ]
    },
    {
      "cell_type": "markdown",
      "metadata": {
        "id": "couaDu1yLvMd"
      },
      "source": [
        "Ejemplo: Area de un rectangulo\r\n",
        "\r\n",
        "$A=lh$"
      ]
    },
    {
      "cell_type": "code",
      "metadata": {
        "id": "MNv9ydQDMgJA"
      },
      "source": [
        "# Cargando bibliotecas necesarias\r\n",
        "import numpy as np\r\n",
        "import matplotlib.pyplot as plt"
      ],
      "execution_count": 6,
      "outputs": []
    },
    {
      "cell_type": "code",
      "metadata": {
        "colab": {
          "base_uri": "https://localhost:8080/"
        },
        "id": "2I1hGvWRMNUn",
        "outputId": "72a93ace-1f84-445e-a0c0-085159fb8f9a"
      },
      "source": [
        "# Se define una función de 2 variables para calcular el área.  \r\n",
        "\r\n",
        "def area(x, y):\r\n",
        "    return x*y\r\n",
        "\r\n",
        "print(\"Proporciona el largo y altura del rectángulo: \", end=\"\")\r\n",
        "l = float(input())\r\n",
        "w = float(input())\r\n",
        "a = area(l, w)\r\n",
        "# Imprime el valor del área en formato libre.\r\n",
        "print(\"\\nArea = \", a)\r\n",
        "# Imprime el valor del área con 2 decimales. \r\n",
        "\r\n",
        "print(\"\\nArea = {:.2f}\".format(a))"
      ],
      "execution_count": 8,
      "outputs": [
        {
          "output_type": "stream",
          "text": [
            "3.141592653589793\n",
            "Proporciona el largo y altura del rectángulo: 1\n",
            "1\n",
            "\n",
            "Area =  1.0\n",
            "\n",
            "Area = 1.00\n"
          ],
          "name": "stdout"
        }
      ]
    },
    {
      "cell_type": "markdown",
      "metadata": {
        "id": "aZXOAKL6NzO0"
      },
      "source": [
        "Area de un circulo:\r\n",
        "\r\n",
        "$A=\\pi r^2$\r\n"
      ]
    },
    {
      "cell_type": "code",
      "metadata": {
        "colab": {
          "base_uri": "https://localhost:8080/"
        },
        "id": "s3e2_y9UOOFN",
        "outputId": "2b29a558-5fe8-4cf7-92aa-48f6d4c53c3f"
      },
      "source": [
        "# Se define la función de area\r\n",
        "#print(np.pi)\r\n",
        "def areaCIR(r):\r\n",
        "\r\n",
        "  return (np.pi)*(r)**2\r\n",
        "\r\n",
        "print(\"Por favor, ingrese el radio del circulo.\")\r\n",
        "r = float(input())\r\n",
        "a = areaCIR(r)\r\n",
        "\r\n",
        "print(f\"El area del circulo es {a}\")\r\n",
        "\r\n"
      ],
      "execution_count": 15,
      "outputs": [
        {
          "output_type": "stream",
          "text": [
            "Por favor, ingrese el radio del circulo:\n",
            "1\n",
            "El area del circulo es 3.141592653589793\n"
          ],
          "name": "stdout"
        }
      ]
    },
    {
      "cell_type": "markdown",
      "metadata": {
        "id": "T6uEthIYQpF9"
      },
      "source": [
        "Area de un elipse:\r\n",
        "\r\n",
        "$A=\\pi ab$"
      ]
    },
    {
      "cell_type": "code",
      "metadata": {
        "id": "TS2nmm4KQ1Rc"
      },
      "source": [
        "# se define la función de area:\r\n",
        "def areaELI(x,y):\r\n",
        "  return (np.pi)*x*y\r\n",
        "\r\n",
        "print(\"Por favor, ingrese el valor para el eje mayor seguido del valor del eje menor.\")\r\n",
        "a = float(input())\r\n",
        "b = float(input())\r\n",
        "a = areaELI(a,b)\r\n",
        "\r\n",
        "print(f\"El valor del area es: {a}\")"
      ],
      "execution_count": null,
      "outputs": []
    },
    {
      "cell_type": "markdown",
      "metadata": {
        "id": "i0_pTX6MSrX5"
      },
      "source": [
        "Volumen de una esfera:\r\n",
        "\r\n",
        "$V=\\frac{4}{3} \\pi r^3$"
      ]
    },
    {
      "cell_type": "code",
      "metadata": {
        "id": "StbFjbomTEFf"
      },
      "source": [
        "# se define la función volumen\r\n",
        "def volESF(x):\r\n",
        "  return 4*(np.pi)*(x)**(3)/3\r\n",
        "\r\n",
        "print(\"A continuación, ingrese el valor del radio de la esfera.\")\r\n",
        "r = float(input())\r\n",
        "a = volESF(r)\r\n",
        "\r\n",
        "print(f\"El volumen de su esfera es: {a}\")"
      ],
      "execution_count": null,
      "outputs": []
    },
    {
      "cell_type": "markdown",
      "metadata": {
        "id": "uSULL7nvYlC5"
      },
      "source": [
        "Volumen de un cilindro circular:\r\n",
        "\r\n",
        "$V=\\pi r^2 h$"
      ]
    },
    {
      "cell_type": "code",
      "metadata": {
        "id": "ENV2kSHKYxey"
      },
      "source": [
        "# se define la función de volumen\r\n",
        "def volCIL(x,y):\r\n",
        "  return (np.pi)*x*y**(2)\r\n",
        "\r\n",
        "print(\"Por favor, ingrese el valor del radio de la base seguido de la altura del cilindro.\")\r\n",
        "r = float(input())\r\n",
        "h = float(input())\r\n",
        "a = volCIL(h,r)\r\n",
        "\r\n",
        "print(f\"El volumen del cilindro es: {a}\")"
      ],
      "execution_count": null,
      "outputs": []
    },
    {
      "cell_type": "markdown",
      "metadata": {
        "id": "GSE5PygOaJIj"
      },
      "source": [
        "# **Ejercicio 2:**\r\n",
        "\r\n",
        "Calculo de raices para ecuaciones cuadraticas.\r\n",
        "\r\n",
        "$x=\\frac{-b \\pm \\sqrt{b^2 - 4ac}}{2a}$"
      ]
    },
    {
      "cell_type": "code",
      "metadata": {
        "id": "a_-pnLplajZg"
      },
      "source": [
        "#Cargando bibliotecas:\r\n",
        "import numpy as np\r\n",
        "\r\n",
        "#definiendo funciones \"formula cuadratica\"\r\n",
        "def raiz1(a,b,c):\r\n",
        "  return (-b+np.sqrt(b**(2.)-4.*a*c))/(2.*a)\r\n",
        "\r\n",
        "def raiz2(a,b,c):\r\n",
        "  return (-b-np.sqrt(b**(2.)-4.*a*c))/(2.*a)\r\n",
        "\r\n",
        "print(\"Bienvenido, este programa puede calcular las raices reales de ecuaciones cuadraticas del tipo ax^2+bx+c=0 .\")\r\n",
        "print(\"\\nPor favor, ingrese los valores de los coeficientes en el sig. orden: a, b, c\")\r\n",
        "\r\n",
        "a = float(input())\r\n",
        "b = float(input())\r\n",
        "c = float(input())\r\n",
        "# determinando si las raices son reales\r\n",
        "if b**(2.)-4.*a*c < 0.0:\r\n",
        "  print(\"\\nSu ecuación cuadratica no tiene raices reales.\")\r\n",
        "else:\r\n",
        "  x1 = raiz1(a,b,c)\r\n",
        "  x2 = raiz2(a,b,c)\r\n",
        "  # categorizando a una sola raiz o dos\r\n",
        "  if x1 == x2 :\r\n",
        "    print(f\"Su ecuación cuenta con una unica raíz. Esta es: {x1}\")\r\n",
        "  else:\r\n",
        "    print(f\"La primer raíz de su ecuación es: {x1}\")\r\n",
        "    print(f\"La segunda raíz de su ecuación es: {x2}\")\r\n",
        "\r\n"
      ],
      "execution_count": null,
      "outputs": []
    },
    {
      "cell_type": "markdown",
      "metadata": {
        "id": "JxNx0LOhfLaH"
      },
      "source": [
        "# **Ejercicio 3:**\r\n",
        "\r\n",
        "Calculo de la raíz cuadrada de un número arbitrario $S$ mediante el método babilonio.\r\n",
        "\r\n",
        "$x_0 \\approx \\sqrt{S}$\r\n",
        "\r\n",
        "$x_{n+1}=\\frac{1}{2} \\left(x_n + \\frac{S}{x_n} \\right)$\r\n",
        "\r\n",
        "$\\sqrt{S} = \\lim\\limits_{n \\to \\infty} x_n$"
      ]
    },
    {
      "cell_type": "code",
      "metadata": {
        "id": "pkggUiHQrgCc"
      },
      "source": [
        "# cargando bibliotecas necesarias\r\n",
        "import numpy as np\r\n",
        "\r\n",
        "print(\"Por favor, ingrese el número al cual desea calcularle la raíz.\")\r\n",
        "s = float(input())\r\n",
        "print(\"\\nAhora, ingrese un número del cual desea comenzar a aproximar la raíz.\") #(Si no sabe de que se habla, ingrese cualquier número)\")\r\n",
        "x = float(input())\r\n",
        "tol = 0.01\r\n",
        "real = np.sqrt(s)\r\n",
        "while np.abs(x-b) > tol:\r\n",
        "  b = x\r\n",
        "  x = (1./2.)*(x+s/x)\r\n",
        "\r\n",
        "print(f\"La raíz cuadrada aproximada del número, con una tolerencia de 0.01 es: {x}\")"
      ],
      "execution_count": null,
      "outputs": []
    }
  ]
}